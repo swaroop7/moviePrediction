{
 "cells": [
  {
   "cell_type": "code",
   "execution_count": 2,
   "metadata": {
    "collapsed": false
   },
   "outputs": [],
   "source": [
    "import os\n",
    "import xlrd\n",
    "import pandas as pd\n",
    "import numpy as np\n",
    "import sys\n",
    "#import gensim\n",
    "from nltk import word_tokenize\n",
    "from nltk.corpus import stopwords\n",
    "from sklearn.feature_extraction.text import CountVectorizer\n",
    "from sklearn.feature_extraction.text import TfidfVectorizer\n",
    "from nltk.stem.snowball import SnowballStemmer\n",
    "from nltk.stem import PorterStemmer, WordNetLemmatizer\n",
    "import matplotlib.pyplot as plt\n",
    "import seaborn as sns\n",
    "import time\n",
    "from scipy.stats import randint as sp_randint\n",
    "# machine learning\n",
    "import ast\n",
    "\n",
    "porter_stemmer = PorterStemmer()\n",
    "stemmer = SnowballStemmer(\"english\")\n",
    "stop_words = stopwords.words('english')\n",
    "\n",
    "t0 = time.time()\n",
    "\n",
    "\n",
    "os.chdir('C:\\\\Users\\\\swaroop\\\\Desktop\\\\interviews\\\\quantiphi')"
   ]
  },
  {
   "cell_type": "code",
   "execution_count": 6,
   "metadata": {
    "collapsed": false
   },
   "outputs": [],
   "source": [
    "import ast"
   ]
  },
  {
   "cell_type": "code",
   "execution_count": 17,
   "metadata": {
    "collapsed": false
   },
   "outputs": [],
   "source": [
    "import omdb\n",
    "import time\n",
    "\n",
    "omdb.set_default('apikey', '83dbc4a4')\n",
    "\n",
    "file = open('movie_names.txt')\n",
    "file2 = open('omdb_v3.txt', 'w')\n",
    "\n",
    "for line in file:\n",
    "    if '(' in line:\n",
    "        movie_name = line.split('(')[0].strip()\n",
    "    else:\n",
    "        movie_name = line.strip()\n",
    "\n",
    "    try:\n",
    "        response = omdb.get(title=movie_name, fullplot=True, tomatoes=True)\n",
    "        time.sleep(1)\n",
    "\n",
    "        x = str(response)[:-1].replace(\"Item(\", \"\")\n",
    "\n",
    "        y = ast.literal_eval(x)\n",
    "\n",
    "        file2.write(line.strip() +'\\t' + str(len(y))+'\\t',)\n",
    "\n",
    "        for i in y:\n",
    "            file2.write(y[i].encode('utf-8') +'\\t',)\n",
    "        file2.write('\\n')\n",
    "    except:\n",
    "        print movie_name\n",
    "        \n",
    "file2.close()\n",
    "file.close()\n"
   ]
  },
  {
   "cell_type": "code",
   "execution_count": 8,
   "metadata": {
    "collapsed": false
   },
   "outputs": [],
   "source": [
    "import omdb\n",
    "\n",
    "omdb.set_default('apikey', '83dbc4a4')\n",
    "\n",
    "file = open('movie_names_dummy.txt')\n",
    "file2 = open('omdb_dummy.txt', 'w')\n",
    "\n",
    "for line in file:\n",
    "    if '(' in line:\n",
    "        movie_name = line.split('(')[0].strip()\n",
    "    else:\n",
    "        movie_name = line.strip()\n",
    "\n",
    "    \n",
    "    response = omdb.get(title=movie_name, fullplot=True, tomatoes=True)\n",
    "\n",
    "\n",
    "    x = str(response)[:-1].replace(\"Item(\", \"\")\n",
    "\n",
    "    y = ast.literal_eval(x)\n",
    "\n",
    "    file2.write(str(len(y))+'\\t',)\n",
    "\n",
    "    for i in y:\n",
    "        file2.write(y[i].encode('utf-8') +'\\t',)\n",
    "    file2.write('\\n')\n",
    "        \n",
    "file2.close()\n",
    "file.close()\n"
   ]
  },
  {
   "cell_type": "code",
   "execution_count": 14,
   "metadata": {
    "collapsed": false
   },
   "outputs": [
    {
     "data": {
      "text/plain": [
       "Item({'metascore': u'53', 'year': u'2010', 'tomato_rating': u'N/A', 'tomato_meter': u'N/A', 'plot': u'Alice, an unpretentious and individual 19-year-old, is betrothed to a dunce of an English nobleman. At her engagement party, she escapes the crowd to consider whether to go through with the marriage and falls down a hole in the garden after spotting an unusual rabbit. Arriving in a strange and surreal place called \"Underland,\" she finds herself in a world that resembles the nightmares she had as a child, filled with talking animals, villainous queens and knights, and frumious bandersnatches. Alice realizes that she is there for a reason--to conquer the horrific Jabberwocky and restore the rightful queen to her throne.', 'rated': u'PG', 'tomato_rotten': u'N/A', 'title': u'Alice in Wonderland', 'tomato_consensus': u'N/A', 'writer': u'Linda Woolverton (screenplay), Lewis Carroll (books)', 'tomato_user_meter': u'N/A', 'production': u'Walt Disney Pictures', 'actors': u'Johnny Depp, Mia Wasikowska, Helena Bonham Carter, Anne Hathaway', 'tomato_fresh': u'N/A', 'imdb_votes': u'329,899', 'type': u'movie', 'tomato_user_reviews': u'N/A', 'website': u'http://disney.go.com/disneypictures/aliceinwonderland/', 'poster': u'https://images-na.ssl-images-amazon.com/images/M/MV5BMTMwNjAxMTc0Nl5BMl5BanBnXkFtZTcwODc3ODk5Mg@@._V1_SX300.jpg', 'imdb_id': u'tt1014759', 'director': u'Tim Burton', 'released': u'05 Mar 2010', 'tomato_reviews': u'N/A', 'awards': u'Won 2 Oscars. Another 32 wins & 63 nominations.', 'tomato_user_rating': u'N/A', 'genre': u'Adventure, Family, Fantasy', 'response': u'True', 'language': u'English', 'dvd': u'01 Jun 2010', 'imdb_rating': u'6.5', 'country': u'USA', 'tomato_image': u'N/A', 'runtime': u'108 min', 'box_office': u'$319,323,000'})"
      ]
     },
     "execution_count": 14,
     "metadata": {},
     "output_type": "execute_result"
    }
   ],
   "source": [
    "omdb.get(title='Alice in Wonderland', fullplot=True, tomatoes=True)"
   ]
  }
 ],
 "metadata": {
  "kernelspec": {
   "display_name": "Python [conda root]",
   "language": "python",
   "name": "conda-root-py"
  },
  "language_info": {
   "codemirror_mode": {
    "name": "ipython",
    "version": 2
   },
   "file_extension": ".py",
   "mimetype": "text/x-python",
   "name": "python",
   "nbconvert_exporter": "python",
   "pygments_lexer": "ipython2",
   "version": "2.7.12"
  }
 },
 "nbformat": 4,
 "nbformat_minor": 1
}
